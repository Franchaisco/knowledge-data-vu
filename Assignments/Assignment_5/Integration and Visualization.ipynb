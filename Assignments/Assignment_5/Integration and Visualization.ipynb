{
 "cells": [
  {
   "cell_type": "markdown",
   "id": "5a9cab90",
   "metadata": {},
   "source": [
    "# Integration and Visualization\n",
    "- YOUR NAME:\n",
    "- YOUR VUNetID:\n",
    "\n",
    "(If you do not provide your NAME and VUNetID we will not accept your submission.)\n",
    "\n",
    "**To hand in: one zip file, containing...**\n",
    "- this file, with completed tasks\n",
    "- the ontology you made in the previous assignment (Task 1)\n",
    "- an ontology you found on the web (Task 1)\n",
    "- an integrated ontology (`mapping.ttl`) (Task 1)"
   ]
  },
  {
   "cell_type": "markdown",
   "id": "a529e5c1",
   "metadata": {},
   "source": [
    "## Task 1 (20 Points):  Integrating ontologies in Protégé\n",
    "Take the ontology you built for Module 4 (let’s call it ontology A), and find either a fellow student with a similar ontology or an ontology on the web on similar domain. That will be our ontology B. \n",
    "\n",
    "Create an empty ontology in Protégé (ontology C), and import both ontologies. \n",
    "\n",
    "Define at least 6 mappings as following:\n",
    "\n",
    "-    1 mapping between a class from A and a class from B using rdfs:subClassOf \n",
    "-    1 mapping between a class from A and a class from B using owl:equivalentClass\n",
    "-    1 mapping between a property from A and a property from B using rdfs:subPropertyOf\n",
    "-    1 mapping between a property from A and a property from B using either owl:equivalentProperty, owl:disjointProperty, owl:inverseOf, or owl:propertyChainAxiom\n",
    "-    1 mapping between an individual from A and an individual from B using owl:differentFrom\n",
    "-    1 mapping between an individual from A and an individual from B using owl:sameAs \n",
    "\n",
    "The combined ontology should be **consistent**.\n",
    "\n",
    "Save the ontology as Turtle, where the filename is ‘`mapping.ttl`’\n",
    "\n",
    "**Submit all three ontologies together with this assignment, leaving preserved the original file names of the ontologies**"
   ]
  },
  {
   "cell_type": "code",
   "execution_count": null,
   "id": "cd2cfdeb",
   "metadata": {},
   "outputs": [],
   "source": [
    "print(open('mapping.ttl').read())"
   ]
  },
  {
   "cell_type": "markdown",
   "id": "efca5acc",
   "metadata": {},
   "source": [
    "## Task 2 (10 Points):  Explain your mapping\n",
    "\n",
    "Please explain and motivate the mapping you made in the previous question in a few sentences in the text field below :\n",
    "\n",
    "..."
   ]
  },
  {
   "cell_type": "markdown",
   "id": "4436005d",
   "metadata": {},
   "source": [
    "## Task 3 (20 points). From SPARQL to DataFrame\n",
    "\n",
    "For the next few tasks we are going to store the results from our queries in a [Pandas DataFrame](https://pandas.pydata.org), making it easier to perform further data processing on the results. To accomplish this, write a procedure to execute the query and to convert the results into a dataframe. \n",
    "\n",
    "To help you on your way, we have already written the main procedure `table_from_query/2` and the helper function `cast/1` which converts the raw values to the appropriate Python objects. Your task is to write the two missing procedures: `execute_query/2` and `create_dataframe/1`. *HINT: revisit assignment 3 if you are unsure where to start*.\n",
    "\n",
    "Please run the next two cells to import the necessary dependencies and to activate the helper procedures."
   ]
  },
  {
   "cell_type": "code",
   "execution_count": null,
   "id": "d96af3dd",
   "metadata": {},
   "outputs": [],
   "source": [
    "from SPARQLWrapper import SPARQLWrapper, JSON\n",
    "import pandas as pd"
   ]
  },
  {
   "cell_type": "code",
   "execution_count": null,
   "id": "f8441f44-4d4e-4a55-8264-b0eb6a7da7bc",
   "metadata": {},
   "outputs": [],
   "source": [
    "def cast(value):\n",
    "    \"\"\" Cast the value from a SPARQL result to an appropriate Python object.\n",
    "        The expected input is a dictionary with at least the keys 'type' and 'value'.\n",
    "    \"\"\"\n",
    "    v = value['value']\n",
    "    if value['type'] in ['literal', 'typed-literal'] and 'datatype' in value.keys():\n",
    "        dtype = URIRef(value['datatype'])\n",
    "        if any(d in dtype for d in ('integer', 'long', 'int', 'short', 'byte')):\n",
    "            return int(v)\n",
    "        if any(d in dtype for d in ('decimal', 'float', 'double')):\n",
    "            return float(v)\n",
    "\n",
    "    # fallback to string\n",
    "    return str(v)\n",
    "\n",
    "def table_from_query(endpoint, query):\n",
    "    \"\"\" Execute a query on an endpoint and return the results as a dataframe.\n",
    "    \"\"\"\n",
    "    query_results = execute_query(endpoint, query)\n",
    "    dataframe = create_dataframe(query_results)\n",
    "\n",
    "    return dataframe"
   ]
  },
  {
   "cell_type": "code",
   "execution_count": null,
   "id": "bd362085-27ae-401d-a0f4-df1a40307a34",
   "metadata": {},
   "outputs": [],
   "source": [
    "def execute_query():\n",
    "    # your code here\n",
    "\n",
    "def create_dataframe():\n",
    "    # your code here"
   ]
  },
  {
   "cell_type": "markdown",
   "id": "38f999b0-87a4-4dfa-ac96-6df82126b928",
   "metadata": {},
   "source": [
    "To test your code, we ask you to create a dataframe about teachers and their course load. We will use the data in `vuDataset.ttl`, which must be imported in GraphDB as a new repository called `repo-vu`. Use the following endpoint and query for this purpose.\n"
   ]
  },
  {
   "cell_type": "code",
   "execution_count": null,
   "id": "f02d84fe-b312-4eb9-b963-933a1e33365a",
   "metadata": {},
   "outputs": [],
   "source": [
    "sparql_endpoint = \"http://localhost:7200/repositories/repo-vu\"\n",
    "sparql_query = \"\"\"\n",
    "PREFIX vu: <http://example.org/vu/>\n",
    "\n",
    "SELECT ?teacher (COUNT(*) as ?courses) {\n",
    "    ?teacher vu:teaches ?o .\n",
    "} GROUP BY ?teacher\n",
    "\"\"\"\n",
    "\n",
    "courseload = table_from_query(sparql_endpoint, sparql_query)\n",
    "print(courseload)"
   ]
  },
  {
   "cell_type": "markdown",
   "id": "b548c993-be1b-4aa6-9349-b25df09eafbf",
   "metadata": {},
   "source": [
    "## Task 4 (20 points) - Data visualization\n",
    "\n",
    "Visualizing (parts of) the data can help us gain a better understanding of what we are dealing with. Now that the data is stored as a dataframe, we can use a library like `matplotlib` to create a variety of helpful plots. To illustrate this, run the following cells to install and import the library, and to generate a pie plot from our dataframe about course loads."
   ]
  },
  {
   "cell_type": "code",
   "execution_count": null,
   "id": "53d1a6b1-3ea8-4c9f-947f-c9cad81e401a",
   "metadata": {},
   "outputs": [],
   "source": [
    "%pip install pandas matplotlib"
   ]
  },
  {
   "cell_type": "code",
   "execution_count": null,
   "id": "24005004-e1f0-41a2-9c9a-0f938c287287",
   "metadata": {},
   "outputs": [],
   "source": [
    "import matplotlib"
   ]
  },
  {
   "cell_type": "code",
   "execution_count": null,
   "id": "4e688426",
   "metadata": {},
   "outputs": [],
   "source": [
    "# Pandas visualization\n",
    "courseload.set_index('teacher', inplace=True)\n",
    "courseload['courses'].plot.pie()"
   ]
  },
  {
   "cell_type": "markdown",
   "id": "f9fb80f3-2e19-464e-a844-94b51cc7feb6",
   "metadata": {},
   "source": [
    "## Task 4a (10 points): Make a horizontal bar chart (with suitable labels and title) from the `courseload` dataframe\n",
    "\n",
    "There are many different kinds of plots that we can make. Please look at [the Pandas wiki](https://pandas.pydata.org/docs/user_guide/visualization.html) to get an idea on what is possible."
   ]
  },
  {
   "cell_type": "code",
   "execution_count": null,
   "id": "5497c244",
   "metadata": {},
   "outputs": [],
   "source": [
    "# your code here"
   ]
  },
  {
   "cell_type": "markdown",
   "id": "36374e09-d1a9-4415-8513-9792e0db56bd",
   "metadata": {},
   "source": [
    "## Task 4b (10 points): Write a new SPARQL query for DBpedia and create an interesting chart from it"
   ]
  },
  {
   "cell_type": "code",
   "execution_count": null,
   "id": "c8b9821b",
   "metadata": {},
   "outputs": [],
   "source": [
    "# your code here"
   ]
  },
  {
   "cell_type": "markdown",
   "id": "133b64a6",
   "metadata": {},
   "source": [
    "## Task 5 (10 points). Conditional styling\n",
    "\n",
    "Below is a query to find all EU countries and their surface area in $m^2$. Below that is some code that adds some colour to the resulting table.\n",
    "\n",
    "\n",
    "We ask you to update the query and code below to add a new column that shows the percentage of the country's area that is water.\n",
    "The background color of this column must depend on this percentage: it should be greener if more of the country is land, and bluer if more of the country is water."
   ]
  },
  {
   "cell_type": "code",
   "execution_count": null,
   "id": "3758ff25",
   "metadata": {},
   "outputs": [],
   "source": [
    "endpoint = \"http://dbpedia.org/sparql\"\n",
    "query = \"\"\"\n",
    "PREFIX dct: <http://purl.org/dc/terms/>\n",
    "PREFIX dbo: <http://dbpedia.org/ontology/>\n",
    "PREFIX yago: <http://dbpedia.org/class/yago/>\n",
    "\n",
    "SELECT DISTINCT ?name ?area_100k_km2 ?giniCoefficient \n",
    "WHERE { \n",
    "    ?country \n",
    "        a yago:WikicatMemberStatesOfTheEuropeanUnion ;\n",
    "        dbo:area ?area ; # area is stated in m^2\n",
    "        dbo:giniCoefficient ?giniCoefficient ;\n",
    "        rdfs:label ?name. \n",
    "    \n",
    "    BIND (ROUND(?area/100000000000) AS ?area_100k_km2)\n",
    "    FILTER(LANG(?name) = 'en')\n",
    "}\n",
    "ORDER BY DESC(?area_100k_km2)\n",
    "LIMIT 50\"\"\"\n",
    "\n",
    "dbpedia_countries = table_from_query(endpoint, query)"
   ]
  },
  {
   "cell_type": "code",
   "execution_count": null,
   "id": "bb5be1df",
   "metadata": {},
   "outputs": [],
   "source": [
    "# Styling: https://pandas.pydata.org/docs/user_guide/style.html\n",
    "# Using CSS Hue-Saturation-Level colors: https://www.w3schools.com/colors/colors_hsl.asp\n",
    "\n",
    "def gini_color(gini):\n",
    "    return f'background: hsl({100 - gini}, 100%, 50%)' \n",
    "\n",
    "dbpedia_countries.style \\\n",
    "    .map(gini_color, subset=(slice(None), \"giniCoefficient\"))"
   ]
  },
  {
   "cell_type": "markdown",
   "id": "e178e65c",
   "metadata": {},
   "source": [
    "# Map Visualizations\n",
    "\n",
    "Below is a query to find all EU capitals, together with their coordinates. The results are drawn on a map using the library `folium`. \n",
    "\n",
    "First run the following cells to install and import the library."
   ]
  },
  {
   "cell_type": "code",
   "execution_count": null,
   "id": "0028de89",
   "metadata": {},
   "outputs": [],
   "source": [
    "%pip install folium"
   ]
  },
  {
   "cell_type": "code",
   "execution_count": null,
   "id": "961f68dc-52a1-4128-9464-584f04ddf34c",
   "metadata": {},
   "outputs": [],
   "source": [
    "import folium"
   ]
  },
  {
   "cell_type": "markdown",
   "id": "349978e1-9f78-43a8-89ef-312333b89c17",
   "metadata": {},
   "source": [
    "# Task 6 (20 points) - Population counts\n",
    "\n",
    "We ask you to update the query and code below to make the markers (circles) scale with the population of the capital (but keep it readable!)."
   ]
  },
  {
   "cell_type": "code",
   "execution_count": null,
   "id": "b3d8d2fd",
   "metadata": {},
   "outputs": [],
   "source": [
    "endpoint = \"http://query.wikidata.org/sparql\"\n",
    "query = \"\"\"\n",
    "SELECT ?capitalLabel ?coords \n",
    "WHERE {\n",
    "    ?country\n",
    "        wdt:P463 wd:Q458 ; # member of: European Union\n",
    "        wdt:P36 ?capital . # capital: ?capital\n",
    "        \n",
    "    ?capital \n",
    "        wdt:P625 ?coords . # coordinate location: ?coords\n",
    "    \n",
    "    # Using Wikidata-only label service\n",
    "    SERVICE wikibase:label { bd:serviceParam wikibase:language \"[AUTO_LANGUAGE],en\". }\n",
    "}\"\"\"\n",
    "\n",
    "capitals = table_from_query(endpoint, query)"
   ]
  },
  {
   "cell_type": "code",
   "execution_count": null,
   "id": "46ded7e8",
   "metadata": {},
   "outputs": [],
   "source": [
    "# Extract latitude and longitude from coordinates in Well-Known Text (WKT) format\n",
    "capitals_coords = capitals.join(capitals.coords.str.extract('Point\\\\((?P<lon>\\\\S+) (?P<lat>\\\\S+)\\\\)').astype(float))\n",
    "\n",
    "middle = [capitals_coords['lat'].mean(), capitals_coords['lon'].mean()]\n",
    "m = folium.Map(location=middle, zoom_start=4)\n",
    "for _, row in capitals_coords.iterrows():\n",
    "    folium.CircleMarker(\n",
    "        location=[row['lat'], row['lon']],\n",
    "        radius= 20,\n",
    "        popup= row['capitalLabel'],\n",
    "        color=\"#3186cc\",\n",
    "        fill=True,\n",
    "        fill_color=\"#3186cc\",\n",
    "    ).add_to(m)\n",
    "\n",
    "m"
   ]
  }
 ],
 "metadata": {
  "kernelspec": {
   "display_name": "Python 3 (ipykernel)",
   "language": "python",
   "name": "python3"
  },
  "language_info": {
   "codemirror_mode": {
    "name": "ipython",
    "version": 3
   },
   "file_extension": ".py",
   "mimetype": "text/x-python",
   "name": "python",
   "nbconvert_exporter": "python",
   "pygments_lexer": "ipython3",
   "version": "3.12.3"
  }
 },
 "nbformat": 4,
 "nbformat_minor": 5
}
